{
 "cells": [
  {
   "cell_type": "markdown",
   "metadata": {},
   "source": [
    "# IF,ELIF,ELSE"
   ]
  },
  {
   "cell_type": "code",
   "execution_count": 4,
   "metadata": {},
   "outputs": [
    {
     "name": "stdout",
     "output_type": "stream",
     "text": [
      "1500\n",
      "COME DOWN TO 1000\n"
     ]
    }
   ],
   "source": [
    "alt = int(input())\n",
    "if alt <= 1000:\n",
    "    print(\"LAND\")\n",
    "elif 1000 < alt <= 5000:\n",
    "    print(\"COME DOWN TO 1000\")\n",
    "else:\n",
    "    print(\"TURN AROUND\")\n",
    "    "
   ]
  },
  {
   "cell_type": "markdown",
   "metadata": {},
   "source": [
    "# PRIME  NUMBERS"
   ]
  },
  {
   "cell_type": "code",
   "execution_count": 7,
   "metadata": {},
   "outputs": [
    {
     "name": "stdout",
     "output_type": "stream",
     "text": [
      "ENTER A NUMBER: 63\n",
      "COMPOSITE NUMBER\n"
     ]
    }
   ],
   "source": [
    "n = int(input(\"ENTER A NUMBER: \"))\n",
    "count = 0\n",
    "for i in range(1,n):\n",
    "    rem = n%i\n",
    "    if rem == 0:\n",
    "        count += 1\n",
    "if count == 2:\n",
    "    print(\"PRIME NUMBER\")\n",
    "else:\n",
    "    print(\"COMPOSITE NUMBER\")"
   ]
  }
 ],
 "metadata": {
  "kernelspec": {
   "display_name": "Python 3",
   "language": "python",
   "name": "python3"
  },
  "language_info": {
   "codemirror_mode": {
    "name": "ipython",
    "version": 3
   },
   "file_extension": ".py",
   "mimetype": "text/x-python",
   "name": "python",
   "nbconvert_exporter": "python",
   "pygments_lexer": "ipython3",
   "version": "3.8.3"
  }
 },
 "nbformat": 4,
 "nbformat_minor": 4
}
