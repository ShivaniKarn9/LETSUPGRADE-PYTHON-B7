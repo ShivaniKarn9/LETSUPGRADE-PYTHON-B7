{
 "cells": [
  {
   "cell_type": "markdown",
   "metadata": {},
   "source": [
    "# LIST"
   ]
  },
  {
   "cell_type": "code",
   "execution_count": 48,
   "metadata": {},
   "outputs": [
    {
     "name": "stdout",
     "output_type": "stream",
     "text": [
      "[1, 2, 3, 4, 5, 6, 7]\n"
     ]
    }
   ],
   "source": [
    "list = [1,2,3,4,5,6]\n",
    "list.append(7)\n",
    "print(list)"
   ]
  },
  {
   "cell_type": "code",
   "execution_count": 27,
   "metadata": {},
   "outputs": [
    {
     "name": "stdout",
     "output_type": "stream",
     "text": [
      "[1, 2, 3, 4, 5, 6, 7]\n"
     ]
    }
   ],
   "source": [
    "list.copy\n",
    "print(list)"
   ]
  },
  {
   "cell_type": "code",
   "execution_count": 49,
   "metadata": {},
   "outputs": [
    {
     "name": "stdout",
     "output_type": "stream",
     "text": [
      "1\n"
     ]
    }
   ],
   "source": [
    "c = list.count(4)\n",
    "print(c)"
   ]
  },
  {
   "cell_type": "code",
   "execution_count": 58,
   "metadata": {},
   "outputs": [
    {
     "name": "stdout",
     "output_type": "stream",
     "text": [
      "7\n",
      "3\n",
      "[7, 6, 5, 4, 3, 2, 1]\n"
     ]
    }
   ],
   "source": [
    "print(len(list))\n",
    "e = list.index(4)\n",
    "print(e)\n",
    "\n",
    "print(list[::-1])\n",
    "\n",
    "\n"
   ]
  },
  {
   "cell_type": "markdown",
   "metadata": {},
   "source": [
    "# DICTIONARIES"
   ]
  },
  {
   "cell_type": "code",
   "execution_count": 74,
   "metadata": {},
   "outputs": [
    {
     "name": "stdout",
     "output_type": "stream",
     "text": [
      "{'name': 'shivani', 'age': 20, 'wieght': 55, 'height': \"5'3\"}\n",
      "{'name': 'shivani', 'age': 20, 'wieght': 55, 'height': \"5'3\"}\n",
      "{'age': 20, 'wieght': 55, 'height': \"5'3\"}\n",
      "{'age': 20, 'wieght': 55, 'height': \"5'3\"}\n",
      "dict_keys(['age', 'wieght', 'height'])\n"
     ]
    }
   ],
   "source": [
    "dit = {\"name\" :\"shivani\",\"age\" : 20, \"wieght\" : 55, \"height\" : \"5'3\"}\n",
    "dit.copy()\n",
    "print(dit)\n",
    "\n",
    "dit.items()\n",
    "print(dit)\n",
    "\n",
    "dit.pop(\"name\")\n",
    "print(dit)\n",
    "\n",
    "dit.setdefault(\"age\")\n",
    "print(dit)\n",
    "\n",
    "g = dit.keys()\n",
    "print(g)"
   ]
  },
  {
   "cell_type": "markdown",
   "metadata": {},
   "source": [
    "# SETS"
   ]
  },
  {
   "cell_type": "code",
   "execution_count": 87,
   "metadata": {},
   "outputs": [
    {
     "name": "stdout",
     "output_type": "stream",
     "text": [
      "{1, 2, 3, 4, 5, 6, 7}\n",
      "{1, 2, 3, 4, 5, 6, 7}\n",
      "{1, 2, 3, 5, 7}\n"
     ]
    }
   ],
   "source": [
    "set = {1,2,3,4,4,4,5,6,6}\n",
    "set.add(7)\n",
    "print(set)\n",
    "\n",
    "set.copy()\n",
    "print(set)\n",
    "\n",
    "ty = set.difference({4,6})\n",
    "print(ty)"
   ]
  },
  {
   "cell_type": "markdown",
   "metadata": {},
   "source": [
    "# TUPLE"
   ]
  },
  {
   "cell_type": "code",
   "execution_count": 8,
   "metadata": {},
   "outputs": [
    {
     "name": "stdout",
     "output_type": "stream",
     "text": [
      "2\n",
      "1\n"
     ]
    }
   ],
   "source": [
    "tup = (\"Shivani\",\"Karn\",2000,\"Shivani\")\n",
    "a = tup.count(\"Shivani\")\n",
    "print(a)\n",
    "b = tup.index(\"Karn\")\n",
    "print(b)"
   ]
  },
  {
   "cell_type": "markdown",
   "metadata": {},
   "source": [
    "# STRING"
   ]
  },
  {
   "cell_type": "code",
   "execution_count": 23,
   "metadata": {},
   "outputs": [
    {
     "name": "stdout",
     "output_type": "stream",
     "text": [
      "50\n",
      "<class 'int'>\n",
      "<class 'float'>\n",
      "Shivani Karn S\n"
     ]
    },
    {
     "data": {
      "text/plain": [
       "str"
      ]
     },
     "execution_count": 23,
     "metadata": {},
     "output_type": "execute_result"
    }
   ],
   "source": [
    "#a = 24\n",
    "#print(type(str(a)))\n",
    "d = 20\n",
    "b = 30\n",
    "c = d + b\n",
    "print(c)\n",
    "print(type(b))\n",
    "\n",
    "g = 3.14\n",
    "print(type(g))\n",
    "\n",
    "name = \"Shivani Karn\"\n",
    "name1 = \"S\"\n",
    "name1\n",
    "print(name + ' ' + name1)\n",
    "type(name)"
   ]
  }
 ],
 "metadata": {
  "kernelspec": {
   "display_name": "Python 3",
   "language": "python",
   "name": "python3"
  },
  "language_info": {
   "codemirror_mode": {
    "name": "ipython",
    "version": 3
   },
   "file_extension": ".py",
   "mimetype": "text/x-python",
   "name": "python",
   "nbconvert_exporter": "python",
   "pygments_lexer": "ipython3",
   "version": "3.8.3"
  }
 },
 "nbformat": 4,
 "nbformat_minor": 4
}
